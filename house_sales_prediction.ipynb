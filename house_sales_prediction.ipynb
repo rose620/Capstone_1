{
 "cells": [
  {
   "cell_type": "code",
   "execution_count": 91,
   "metadata": {},
   "outputs": [],
   "source": [
    "#import packages to be used for data analysis\n",
    "import pandas as pd\n",
    "import numpy as np\n",
    "import matplotlib.pyplot as plt\n",
    "%matplotlib inline\n",
    "import seaborn as sns\n",
    "from scipy.stats import zscore\n",
    "sns.set()"
   ]
  },
  {
   "cell_type": "code",
   "execution_count": 92,
   "metadata": {},
   "outputs": [],
   "source": [
    "#read in dataset into pandas\n",
    "df = pd.read_csv('housesalesprediction/kc_house_data.csv')"
   ]
  },
  {
   "cell_type": "code",
   "execution_count": 93,
   "metadata": {},
   "outputs": [
    {
     "data": {
      "text/plain": [
       "(21613, 21)"
      ]
     },
     "execution_count": 93,
     "metadata": {},
     "output_type": "execute_result"
    }
   ],
   "source": [
    "#inspect how many rows and columns are in datasest\n",
    "df.shape"
   ]
  },
  {
   "cell_type": "code",
   "execution_count": 94,
   "metadata": {},
   "outputs": [
    {
     "data": {
      "text/html": [
       "<div>\n",
       "<style scoped>\n",
       "    .dataframe tbody tr th:only-of-type {\n",
       "        vertical-align: middle;\n",
       "    }\n",
       "\n",
       "    .dataframe tbody tr th {\n",
       "        vertical-align: top;\n",
       "    }\n",
       "\n",
       "    .dataframe thead th {\n",
       "        text-align: right;\n",
       "    }\n",
       "</style>\n",
       "<table border=\"1\" class=\"dataframe\">\n",
       "  <thead>\n",
       "    <tr style=\"text-align: right;\">\n",
       "      <th></th>\n",
       "      <th>id</th>\n",
       "      <th>date</th>\n",
       "      <th>price</th>\n",
       "      <th>bedrooms</th>\n",
       "      <th>bathrooms</th>\n",
       "      <th>sqft_living</th>\n",
       "      <th>sqft_lot</th>\n",
       "      <th>floors</th>\n",
       "      <th>waterfront</th>\n",
       "      <th>view</th>\n",
       "      <th>...</th>\n",
       "      <th>grade</th>\n",
       "      <th>sqft_above</th>\n",
       "      <th>sqft_basement</th>\n",
       "      <th>yr_built</th>\n",
       "      <th>yr_renovated</th>\n",
       "      <th>zipcode</th>\n",
       "      <th>lat</th>\n",
       "      <th>long</th>\n",
       "      <th>sqft_living15</th>\n",
       "      <th>sqft_lot15</th>\n",
       "    </tr>\n",
       "  </thead>\n",
       "  <tbody>\n",
       "    <tr>\n",
       "      <th>0</th>\n",
       "      <td>7129300520</td>\n",
       "      <td>20141013T000000</td>\n",
       "      <td>221900.0</td>\n",
       "      <td>3</td>\n",
       "      <td>1.00</td>\n",
       "      <td>1180</td>\n",
       "      <td>5650</td>\n",
       "      <td>1.0</td>\n",
       "      <td>0</td>\n",
       "      <td>0</td>\n",
       "      <td>...</td>\n",
       "      <td>7</td>\n",
       "      <td>1180</td>\n",
       "      <td>0</td>\n",
       "      <td>1955</td>\n",
       "      <td>0</td>\n",
       "      <td>98178</td>\n",
       "      <td>47.5112</td>\n",
       "      <td>-122.257</td>\n",
       "      <td>1340</td>\n",
       "      <td>5650</td>\n",
       "    </tr>\n",
       "    <tr>\n",
       "      <th>1</th>\n",
       "      <td>6414100192</td>\n",
       "      <td>20141209T000000</td>\n",
       "      <td>538000.0</td>\n",
       "      <td>3</td>\n",
       "      <td>2.25</td>\n",
       "      <td>2570</td>\n",
       "      <td>7242</td>\n",
       "      <td>2.0</td>\n",
       "      <td>0</td>\n",
       "      <td>0</td>\n",
       "      <td>...</td>\n",
       "      <td>7</td>\n",
       "      <td>2170</td>\n",
       "      <td>400</td>\n",
       "      <td>1951</td>\n",
       "      <td>1991</td>\n",
       "      <td>98125</td>\n",
       "      <td>47.7210</td>\n",
       "      <td>-122.319</td>\n",
       "      <td>1690</td>\n",
       "      <td>7639</td>\n",
       "    </tr>\n",
       "    <tr>\n",
       "      <th>2</th>\n",
       "      <td>5631500400</td>\n",
       "      <td>20150225T000000</td>\n",
       "      <td>180000.0</td>\n",
       "      <td>2</td>\n",
       "      <td>1.00</td>\n",
       "      <td>770</td>\n",
       "      <td>10000</td>\n",
       "      <td>1.0</td>\n",
       "      <td>0</td>\n",
       "      <td>0</td>\n",
       "      <td>...</td>\n",
       "      <td>6</td>\n",
       "      <td>770</td>\n",
       "      <td>0</td>\n",
       "      <td>1933</td>\n",
       "      <td>0</td>\n",
       "      <td>98028</td>\n",
       "      <td>47.7379</td>\n",
       "      <td>-122.233</td>\n",
       "      <td>2720</td>\n",
       "      <td>8062</td>\n",
       "    </tr>\n",
       "    <tr>\n",
       "      <th>3</th>\n",
       "      <td>2487200875</td>\n",
       "      <td>20141209T000000</td>\n",
       "      <td>604000.0</td>\n",
       "      <td>4</td>\n",
       "      <td>3.00</td>\n",
       "      <td>1960</td>\n",
       "      <td>5000</td>\n",
       "      <td>1.0</td>\n",
       "      <td>0</td>\n",
       "      <td>0</td>\n",
       "      <td>...</td>\n",
       "      <td>7</td>\n",
       "      <td>1050</td>\n",
       "      <td>910</td>\n",
       "      <td>1965</td>\n",
       "      <td>0</td>\n",
       "      <td>98136</td>\n",
       "      <td>47.5208</td>\n",
       "      <td>-122.393</td>\n",
       "      <td>1360</td>\n",
       "      <td>5000</td>\n",
       "    </tr>\n",
       "    <tr>\n",
       "      <th>4</th>\n",
       "      <td>1954400510</td>\n",
       "      <td>20150218T000000</td>\n",
       "      <td>510000.0</td>\n",
       "      <td>3</td>\n",
       "      <td>2.00</td>\n",
       "      <td>1680</td>\n",
       "      <td>8080</td>\n",
       "      <td>1.0</td>\n",
       "      <td>0</td>\n",
       "      <td>0</td>\n",
       "      <td>...</td>\n",
       "      <td>8</td>\n",
       "      <td>1680</td>\n",
       "      <td>0</td>\n",
       "      <td>1987</td>\n",
       "      <td>0</td>\n",
       "      <td>98074</td>\n",
       "      <td>47.6168</td>\n",
       "      <td>-122.045</td>\n",
       "      <td>1800</td>\n",
       "      <td>7503</td>\n",
       "    </tr>\n",
       "  </tbody>\n",
       "</table>\n",
       "<p>5 rows × 21 columns</p>\n",
       "</div>"
      ],
      "text/plain": [
       "           id             date     price  bedrooms  bathrooms  sqft_living  \\\n",
       "0  7129300520  20141013T000000  221900.0         3       1.00         1180   \n",
       "1  6414100192  20141209T000000  538000.0         3       2.25         2570   \n",
       "2  5631500400  20150225T000000  180000.0         2       1.00          770   \n",
       "3  2487200875  20141209T000000  604000.0         4       3.00         1960   \n",
       "4  1954400510  20150218T000000  510000.0         3       2.00         1680   \n",
       "\n",
       "   sqft_lot  floors  waterfront  view     ...      grade  sqft_above  \\\n",
       "0      5650     1.0           0     0     ...          7        1180   \n",
       "1      7242     2.0           0     0     ...          7        2170   \n",
       "2     10000     1.0           0     0     ...          6         770   \n",
       "3      5000     1.0           0     0     ...          7        1050   \n",
       "4      8080     1.0           0     0     ...          8        1680   \n",
       "\n",
       "   sqft_basement  yr_built  yr_renovated  zipcode      lat     long  \\\n",
       "0              0      1955             0    98178  47.5112 -122.257   \n",
       "1            400      1951          1991    98125  47.7210 -122.319   \n",
       "2              0      1933             0    98028  47.7379 -122.233   \n",
       "3            910      1965             0    98136  47.5208 -122.393   \n",
       "4              0      1987             0    98074  47.6168 -122.045   \n",
       "\n",
       "   sqft_living15  sqft_lot15  \n",
       "0           1340        5650  \n",
       "1           1690        7639  \n",
       "2           2720        8062  \n",
       "3           1360        5000  \n",
       "4           1800        7503  \n",
       "\n",
       "[5 rows x 21 columns]"
      ]
     },
     "execution_count": 94,
     "metadata": {},
     "output_type": "execute_result"
    }
   ],
   "source": [
    "#view first couple rows to make sure columns and rows are labelled properly\n",
    "df.head()"
   ]
  },
  {
   "cell_type": "code",
   "execution_count": 95,
   "metadata": {},
   "outputs": [
    {
     "name": "stdout",
     "output_type": "stream",
     "text": [
      "<class 'pandas.core.frame.DataFrame'>\n",
      "RangeIndex: 21613 entries, 0 to 21612\n",
      "Data columns (total 21 columns):\n",
      "id               21613 non-null int64\n",
      "date             21613 non-null object\n",
      "price            21613 non-null float64\n",
      "bedrooms         21613 non-null int64\n",
      "bathrooms        21613 non-null float64\n",
      "sqft_living      21613 non-null int64\n",
      "sqft_lot         21613 non-null int64\n",
      "floors           21613 non-null float64\n",
      "waterfront       21613 non-null int64\n",
      "view             21613 non-null int64\n",
      "condition        21613 non-null int64\n",
      "grade            21613 non-null int64\n",
      "sqft_above       21613 non-null int64\n",
      "sqft_basement    21613 non-null int64\n",
      "yr_built         21613 non-null int64\n",
      "yr_renovated     21613 non-null int64\n",
      "zipcode          21613 non-null int64\n",
      "lat              21613 non-null float64\n",
      "long             21613 non-null float64\n",
      "sqft_living15    21613 non-null int64\n",
      "sqft_lot15       21613 non-null int64\n",
      "dtypes: float64(5), int64(15), object(1)\n",
      "memory usage: 3.5+ MB\n"
     ]
    }
   ],
   "source": [
    "#take a look at the different data types of the values in the columns\n",
    "df.describe()\n",
    "df.info()"
   ]
  },
  {
   "cell_type": "code",
   "execution_count": 96,
   "metadata": {},
   "outputs": [
    {
     "name": "stdout",
     "output_type": "stream",
     "text": [
      "Index(['id', 'date', 'price', 'bedrooms', 'bathrooms', 'sqft_living',\n",
      "       'sqft_lot', 'floors', 'waterfront', 'view', 'condition', 'grade',\n",
      "       'sqft_above', 'sqft_basement', 'yr_built', 'yr_renovated', 'zipcode',\n",
      "       'lat', 'long', 'sqft_living15', 'sqft_lot15'],\n",
      "      dtype='object')\n"
     ]
    }
   ],
   "source": [
    "#take a look at the names of all the columns\n",
    "print(df.columns)\n",
    "columns_list = df.columns"
   ]
  },
  {
   "cell_type": "code",
   "execution_count": 97,
   "metadata": {},
   "outputs": [
    {
     "data": {
      "text/plain": [
       "70"
      ]
     },
     "execution_count": 97,
     "metadata": {},
     "output_type": "execute_result"
    }
   ],
   "source": [
    "#take a look at zip code column and sort out unique values to see if data is sufficient for all of king county predictions\n",
    "all_zip_codes = df['zipcode']\n",
    "zip_codes = df['zipcode'].unique()\n",
    "np.sort(zip_codes)\n",
    "len(zip_codes)"
   ]
  },
  {
   "cell_type": "markdown",
   "metadata": {},
   "source": [
    "#### With 108 zip codes in the total King County area and 70 provided in this dataset, we can conclude that this dataset is a good representation of the King County area price of homes."
   ]
  },
  {
   "cell_type": "code",
   "execution_count": 98,
   "metadata": {},
   "outputs": [
    {
     "data": {
      "text/html": [
       "<div>\n",
       "<style scoped>\n",
       "    .dataframe tbody tr th:only-of-type {\n",
       "        vertical-align: middle;\n",
       "    }\n",
       "\n",
       "    .dataframe tbody tr th {\n",
       "        vertical-align: top;\n",
       "    }\n",
       "\n",
       "    .dataframe thead th {\n",
       "        text-align: right;\n",
       "    }\n",
       "</style>\n",
       "<table border=\"1\" class=\"dataframe\">\n",
       "  <thead>\n",
       "    <tr style=\"text-align: right;\">\n",
       "      <th></th>\n",
       "      <th>price</th>\n",
       "      <th>bedrooms</th>\n",
       "      <th>bathrooms</th>\n",
       "      <th>sqft_living</th>\n",
       "    </tr>\n",
       "  </thead>\n",
       "  <tbody>\n",
       "    <tr>\n",
       "      <th>0</th>\n",
       "      <td>221900.0</td>\n",
       "      <td>3</td>\n",
       "      <td>1.00</td>\n",
       "      <td>1180</td>\n",
       "    </tr>\n",
       "    <tr>\n",
       "      <th>1</th>\n",
       "      <td>538000.0</td>\n",
       "      <td>3</td>\n",
       "      <td>2.25</td>\n",
       "      <td>2570</td>\n",
       "    </tr>\n",
       "    <tr>\n",
       "      <th>2</th>\n",
       "      <td>180000.0</td>\n",
       "      <td>2</td>\n",
       "      <td>1.00</td>\n",
       "      <td>770</td>\n",
       "    </tr>\n",
       "    <tr>\n",
       "      <th>3</th>\n",
       "      <td>604000.0</td>\n",
       "      <td>4</td>\n",
       "      <td>3.00</td>\n",
       "      <td>1960</td>\n",
       "    </tr>\n",
       "    <tr>\n",
       "      <th>4</th>\n",
       "      <td>510000.0</td>\n",
       "      <td>3</td>\n",
       "      <td>2.00</td>\n",
       "      <td>1680</td>\n",
       "    </tr>\n",
       "  </tbody>\n",
       "</table>\n",
       "</div>"
      ],
      "text/plain": [
       "      price  bedrooms  bathrooms  sqft_living\n",
       "0  221900.0         3       1.00         1180\n",
       "1  538000.0         3       2.25         2570\n",
       "2  180000.0         2       1.00          770\n",
       "3  604000.0         4       3.00         1960\n",
       "4  510000.0         3       2.00         1680"
      ]
     },
     "execution_count": 98,
     "metadata": {},
     "output_type": "execute_result"
    }
   ],
   "source": [
    "#pick a couple features and see if there are any trends to know which features to use in exploratory data analysis\n",
    "subset = df[['price','bedrooms','bathrooms','sqft_living']]\n",
    "subset.head()"
   ]
  },
  {
   "cell_type": "code",
   "execution_count": 124,
   "metadata": {},
   "outputs": [
    {
     "data": {
      "text/html": [
       "<div>\n",
       "<style scoped>\n",
       "    .dataframe tbody tr th:only-of-type {\n",
       "        vertical-align: middle;\n",
       "    }\n",
       "\n",
       "    .dataframe tbody tr th {\n",
       "        vertical-align: top;\n",
       "    }\n",
       "\n",
       "    .dataframe thead th {\n",
       "        text-align: right;\n",
       "    }\n",
       "</style>\n",
       "<table border=\"1\" class=\"dataframe\">\n",
       "  <thead>\n",
       "    <tr style=\"text-align: right;\">\n",
       "      <th></th>\n",
       "      <th>id</th>\n",
       "      <th>date</th>\n",
       "      <th>price</th>\n",
       "      <th>bedrooms</th>\n",
       "      <th>bathrooms</th>\n",
       "      <th>sqft_living</th>\n",
       "      <th>sqft_lot</th>\n",
       "      <th>floors</th>\n",
       "      <th>waterfront</th>\n",
       "      <th>view</th>\n",
       "      <th>...</th>\n",
       "      <th>grade</th>\n",
       "      <th>sqft_above</th>\n",
       "      <th>sqft_basement</th>\n",
       "      <th>yr_built</th>\n",
       "      <th>yr_renovated</th>\n",
       "      <th>zipcode</th>\n",
       "      <th>lat</th>\n",
       "      <th>long</th>\n",
       "      <th>sqft_living15</th>\n",
       "      <th>sqft_lot15</th>\n",
       "    </tr>\n",
       "  </thead>\n",
       "  <tbody>\n",
       "    <tr>\n",
       "      <th>0</th>\n",
       "      <td>7129300520</td>\n",
       "      <td>20141013T000000</td>\n",
       "      <td>221900.0</td>\n",
       "      <td>3</td>\n",
       "      <td>1.0</td>\n",
       "      <td>1180</td>\n",
       "      <td>5650</td>\n",
       "      <td>1.0</td>\n",
       "      <td>0</td>\n",
       "      <td>0</td>\n",
       "      <td>...</td>\n",
       "      <td>7</td>\n",
       "      <td>1180</td>\n",
       "      <td>0</td>\n",
       "      <td>1955</td>\n",
       "      <td>0</td>\n",
       "      <td>98178</td>\n",
       "      <td>47.5112</td>\n",
       "      <td>-122.257</td>\n",
       "      <td>1340</td>\n",
       "      <td>5650</td>\n",
       "    </tr>\n",
       "    <tr>\n",
       "      <th>1500</th>\n",
       "      <td>4324200060</td>\n",
       "      <td>20150312T000000</td>\n",
       "      <td>249000.0</td>\n",
       "      <td>3</td>\n",
       "      <td>1.5</td>\n",
       "      <td>1700</td>\n",
       "      <td>8247</td>\n",
       "      <td>1.0</td>\n",
       "      <td>0</td>\n",
       "      <td>0</td>\n",
       "      <td>...</td>\n",
       "      <td>7</td>\n",
       "      <td>1010</td>\n",
       "      <td>690</td>\n",
       "      <td>1970</td>\n",
       "      <td>0</td>\n",
       "      <td>98031</td>\n",
       "      <td>47.4216</td>\n",
       "      <td>-122.174</td>\n",
       "      <td>1440</td>\n",
       "      <td>8400</td>\n",
       "    </tr>\n",
       "  </tbody>\n",
       "</table>\n",
       "<p>2 rows × 21 columns</p>\n",
       "</div>"
      ],
      "text/plain": [
       "              id             date     price  bedrooms  bathrooms  sqft_living  \\\n",
       "0     7129300520  20141013T000000  221900.0         3        1.0         1180   \n",
       "1500  4324200060  20150312T000000  249000.0         3        1.5         1700   \n",
       "\n",
       "      sqft_lot  floors  waterfront  view     ...      grade  sqft_above  \\\n",
       "0         5650     1.0           0     0     ...          7        1180   \n",
       "1500      8247     1.0           0     0     ...          7        1010   \n",
       "\n",
       "      sqft_basement  yr_built  yr_renovated  zipcode      lat     long  \\\n",
       "0                 0      1955             0    98178  47.5112 -122.257   \n",
       "1500            690      1970             0    98031  47.4216 -122.174   \n",
       "\n",
       "      sqft_living15  sqft_lot15  \n",
       "0              1340        5650  \n",
       "1500           1440        8400  \n",
       "\n",
       "[2 rows x 21 columns]"
      ]
     },
     "execution_count": 124,
     "metadata": {},
     "output_type": "execute_result"
    }
   ],
   "source": [
    "#check if row labels correspond to index labels on this data set\n",
    "df.iloc[[0,1500]]"
   ]
  },
  {
   "cell_type": "code",
   "execution_count": 100,
   "metadata": {},
   "outputs": [
    {
     "data": {
      "text/html": [
       "<div>\n",
       "<style scoped>\n",
       "    .dataframe tbody tr th:only-of-type {\n",
       "        vertical-align: middle;\n",
       "    }\n",
       "\n",
       "    .dataframe tbody tr th {\n",
       "        vertical-align: top;\n",
       "    }\n",
       "\n",
       "    .dataframe thead th {\n",
       "        text-align: right;\n",
       "    }\n",
       "</style>\n",
       "<table border=\"1\" class=\"dataframe\">\n",
       "  <thead>\n",
       "    <tr style=\"text-align: right;\">\n",
       "      <th></th>\n",
       "      <th>grade</th>\n",
       "      <th>price</th>\n",
       "    </tr>\n",
       "  </thead>\n",
       "  <tbody>\n",
       "    <tr>\n",
       "      <th>4411</th>\n",
       "      <td>13</td>\n",
       "      <td>5570000.0</td>\n",
       "    </tr>\n",
       "    <tr>\n",
       "      <th>4811</th>\n",
       "      <td>13</td>\n",
       "      <td>2479000.0</td>\n",
       "    </tr>\n",
       "    <tr>\n",
       "      <th>5451</th>\n",
       "      <td>13</td>\n",
       "      <td>1780000.0</td>\n",
       "    </tr>\n",
       "    <tr>\n",
       "      <th>6041</th>\n",
       "      <td>13</td>\n",
       "      <td>2385000.0</td>\n",
       "    </tr>\n",
       "    <tr>\n",
       "      <th>7035</th>\n",
       "      <td>13</td>\n",
       "      <td>3800000.0</td>\n",
       "    </tr>\n",
       "    <tr>\n",
       "      <th>7252</th>\n",
       "      <td>13</td>\n",
       "      <td>7700000.0</td>\n",
       "    </tr>\n",
       "    <tr>\n",
       "      <th>7907</th>\n",
       "      <td>13</td>\n",
       "      <td>3200000.0</td>\n",
       "    </tr>\n",
       "    <tr>\n",
       "      <th>9254</th>\n",
       "      <td>13</td>\n",
       "      <td>6885000.0</td>\n",
       "    </tr>\n",
       "    <tr>\n",
       "      <th>10373</th>\n",
       "      <td>13</td>\n",
       "      <td>2983000.0</td>\n",
       "    </tr>\n",
       "    <tr>\n",
       "      <th>13411</th>\n",
       "      <td>13</td>\n",
       "      <td>2415000.0</td>\n",
       "    </tr>\n",
       "    <tr>\n",
       "      <th>13700</th>\n",
       "      <td>13</td>\n",
       "      <td>2340000.0</td>\n",
       "    </tr>\n",
       "    <tr>\n",
       "      <th>14556</th>\n",
       "      <td>13</td>\n",
       "      <td>2888000.0</td>\n",
       "    </tr>\n",
       "    <tr>\n",
       "      <th>19017</th>\n",
       "      <td>13</td>\n",
       "      <td>3800000.0</td>\n",
       "    </tr>\n",
       "  </tbody>\n",
       "</table>\n",
       "</div>"
      ],
      "text/plain": [
       "       grade      price\n",
       "4411      13  5570000.0\n",
       "4811      13  2479000.0\n",
       "5451      13  1780000.0\n",
       "6041      13  2385000.0\n",
       "7035      13  3800000.0\n",
       "7252      13  7700000.0\n",
       "7907      13  3200000.0\n",
       "9254      13  6885000.0\n",
       "10373     13  2983000.0\n",
       "13411     13  2415000.0\n",
       "13700     13  2340000.0\n",
       "14556     13  2888000.0\n",
       "19017     13  3800000.0"
      ]
     },
     "execution_count": 100,
     "metadata": {},
     "output_type": "execute_result"
    }
   ],
   "source": [
    "#filter the highest grade according to king county.gov/assesor buiding grade and compare against price\n",
    "df.loc[df['grade'] == 13, ['grade', 'price']]"
   ]
  },
  {
   "cell_type": "code",
   "execution_count": 101,
   "metadata": {},
   "outputs": [
    {
     "data": {
      "text/html": [
       "<div>\n",
       "<style scoped>\n",
       "    .dataframe tbody tr th:only-of-type {\n",
       "        vertical-align: middle;\n",
       "    }\n",
       "\n",
       "    .dataframe tbody tr th {\n",
       "        vertical-align: top;\n",
       "    }\n",
       "\n",
       "    .dataframe thead th {\n",
       "        text-align: right;\n",
       "    }\n",
       "</style>\n",
       "<table border=\"1\" class=\"dataframe\">\n",
       "  <thead>\n",
       "    <tr style=\"text-align: right;\">\n",
       "      <th></th>\n",
       "      <th>grade</th>\n",
       "      <th>condition</th>\n",
       "      <th>price</th>\n",
       "    </tr>\n",
       "  </thead>\n",
       "  <tbody>\n",
       "    <tr>\n",
       "      <th>7035</th>\n",
       "      <td>13</td>\n",
       "      <td>4</td>\n",
       "      <td>3800000.0</td>\n",
       "    </tr>\n",
       "    <tr>\n",
       "      <th>7252</th>\n",
       "      <td>13</td>\n",
       "      <td>4</td>\n",
       "      <td>7700000.0</td>\n",
       "    </tr>\n",
       "  </tbody>\n",
       "</table>\n",
       "</div>"
      ],
      "text/plain": [
       "      grade  condition      price\n",
       "7035     13          4  3800000.0\n",
       "7252     13          4  7700000.0"
      ]
     },
     "execution_count": 101,
     "metadata": {},
     "output_type": "execute_result"
    }
   ],
   "source": [
    "#subset the highest buiding rating and condition rating in accordance to king county.gov/assessor\n",
    "df.loc[(df['grade'] == 13) & (df['condition'] > 3), ['grade', 'condition', 'price']]"
   ]
  },
  {
   "cell_type": "code",
   "execution_count": 102,
   "metadata": {},
   "outputs": [
    {
     "data": {
      "text/plain": [
       "0"
      ]
     },
     "execution_count": 102,
     "metadata": {},
     "output_type": "execute_result"
    }
   ],
   "source": [
    "#check to see if any missing values in dataset\n",
    "df.isnull().sum()\n",
    "df.isnull().sum().sum()"
   ]
  },
  {
   "cell_type": "markdown",
   "metadata": {},
   "source": [
    "### After doing data exploration decide if it is statistically important to add city names to zip code data."
   ]
  },
  {
   "cell_type": "code",
   "execution_count": 103,
   "metadata": {},
   "outputs": [
    {
     "data": {
      "text/plain": [
       "price            1.000000\n",
       "sqft_living      0.702035\n",
       "grade            0.667434\n",
       "sqft_above       0.605567\n",
       "sqft_living15    0.585379\n",
       "bathrooms        0.525138\n",
       "view             0.397293\n",
       "sqft_basement    0.323816\n",
       "bedrooms         0.308350\n",
       "lat              0.307003\n",
       "waterfront       0.266369\n",
       "floors           0.256794\n",
       "yr_renovated     0.126434\n",
       "sqft_lot         0.089661\n",
       "sqft_lot15       0.082447\n",
       "yr_built         0.054012\n",
       "condition        0.036362\n",
       "long             0.021626\n",
       "id              -0.016762\n",
       "zipcode         -0.053203\n",
       "Name: price, dtype: float64"
      ]
     },
     "execution_count": 103,
     "metadata": {},
     "output_type": "execute_result"
    }
   ],
   "source": [
    "# take a look at correlations of price vs different features to see which one is showing highest correlation\n",
    "df.corr()['price'].sort_values(ascending=False)"
   ]
  },
  {
   "cell_type": "markdown",
   "metadata": {},
   "source": [
    "### So far, square footage ,building grade and number of bathrooms tops the price-correlation list but other statistical methods might be needed if we decide to look at zipcodes since zipcodes are categorical. The correlation table allows us to see how the top 5 features are so much more correlated than all the rest of the features combined.¶"
   ]
  },
  {
   "cell_type": "code",
   "execution_count": 104,
   "metadata": {},
   "outputs": [
    {
     "data": {
      "text/plain": [
       "(array([1.0000e+00, 3.0000e+00, 2.9000e+01, 2.4200e+02, 2.0380e+03,\n",
       "        1.5049e+04, 2.6150e+03, 1.1340e+03, 3.9900e+02, 1.0300e+02]),\n",
       " array([ 1. ,  2.2,  3.4,  4.6,  5.8,  7. ,  8.2,  9.4, 10.6, 11.8, 13. ]),\n",
       " <a list of 10 Patch objects>)"
      ]
     },
     "execution_count": 104,
     "metadata": {},
     "output_type": "execute_result"
    },
    {
     "data": {
      "image/png": "[encoded data removed]",
      "text/plain": [
       "<Figure size 432x288 with 1 Axes>"
      ]
     },
     "metadata": {},
     "output_type": "display_data"
    }
   ],
   "source": [
    "#since grade has a high correlation with price, take a look at how grade data points are distributed on a histogram\n",
    "plt.hist(df['grade'])"
   ]
  },
  {
   "cell_type": "markdown",
   "metadata": {},
   "source": [
    "### In our correlation stats, building grade was one of the highest correlation features with price and the building grade histogram above indicates that the majority of King County real estate falls around a 7.5 building grade."
   ]
  },
  {
   "cell_type": "code",
   "execution_count": 105,
   "metadata": {
    "scrolled": true
   },
   "outputs": [
    {
     "data": {
      "image/png": "[encoded data removed]",
      "text/plain": [
       "<Figure size 432x288 with 1 Axes>"
      ]
     },
     "metadata": {},
     "output_type": "display_data"
    }
   ],
   "source": [
    "#take a look at a beeswarm plot for the highest correlated feature of sqft_living to look for any trends\n",
    "_ = sns.swarmplot(x='sqft_living', y='price', data=df)"
   ]
  },
  {
   "cell_type": "markdown",
   "metadata": {},
   "source": [
    "### The beeswarm plot shows a marked correlation between square foot living area and home price, which is certainly what we would expect based on earlier correlation stats.  "
   ]
  },
  {
   "cell_type": "code",
   "execution_count": 106,
   "metadata": {},
   "outputs": [
    {
     "name": "stdout",
     "output_type": "stream",
     "text": [
      "mean no of  bedrooms    3.370842\n",
      "dtype: float64\n",
      "mean no of  bathrooms    2.114757\n",
      "dtype: float64\n",
      "mean no of  floors    1.494309\n",
      "dtype: float64\n",
      "mean building  grade    7.656873\n",
      "dtype: float64\n"
     ]
    }
   ],
   "source": [
    "#utilizing numpy mean, find means of different features\n",
    "#create variable for no of bathrooms to do further data visualizations\n",
    "no_of_bathrooms = df[['bathrooms']]\n",
    "no_of_bedrooms = df[['bedrooms']]\n",
    "no_of_floors = df[['floors']]\n",
    "building_grade = df[['grade']]\n",
    "mean_no_bedrms = np.mean(no_of_bedrooms)\n",
    "mean_no_bathrms = np.mean(no_of_bathrooms)\n",
    "mean_no_floors = np.mean(no_of_floors)\n",
    "mean_building_grade = np.mean(building_grade)\n",
    "print('mean no of ', mean_no_bedrms)\n",
    "print('mean no of ', mean_no_bathrms)\n",
    "print('mean no of ', mean_no_floors)\n",
    "print('mean building ', mean_building_grade)"
   ]
  },
  {
   "cell_type": "markdown",
   "metadata": {},
   "source": [
    "### Performing numpy stats shows us that the average number of bedrooms is approx 3, the average number of bathrooms is 2 , the average number of floors is 1.5 and the average building grade is approx 7.5."
   ]
  },
  {
   "cell_type": "code",
   "execution_count": 19,
   "metadata": {
    "scrolled": true
   },
   "outputs": [
    {
     "data": {
      "text/plain": [
       "{'whiskers': [<matplotlib.lines.Line2D at 0x1a2a68c7828>,\n",
       "  <matplotlib.lines.Line2D at 0x1a2a68c7780>],\n",
       " 'caps': [<matplotlib.lines.Line2D at 0x1a2a68fd860>,\n",
       "  <matplotlib.lines.Line2D at 0x1a2a68fdb38>],\n",
       " 'boxes': [<matplotlib.lines.Line2D at 0x1a2a68c7208>],\n",
       " 'medians': [<matplotlib.lines.Line2D at 0x1a2a68fdfd0>],\n",
       " 'fliers': [<matplotlib.lines.Line2D at 0x1a2a7b9fa90>],\n",
       " 'means': [<matplotlib.lines.Line2D at 0x1a2a68fd400>]}"
      ]
     },
     "execution_count": 19,
     "metadata": {},
     "output_type": "execute_result"
    },
    {
     "data": {
      "image/png": "[encoded data removed]",
      "text/plain": [
       "<Figure size 432x288 with 1 Axes>"
      ]
     },
     "metadata": {},
     "output_type": "display_data"
    }
   ],
   "source": [
    "#take a look at how median for square foot living falls on a box and whisker plot.\n",
    "plt.boxplot(df['sqft_living'],1, showmeans = True, sym = 'b+')"
   ]
  },
  {
   "cell_type": "code",
   "execution_count": 107,
   "metadata": {},
   "outputs": [
    {
     "data": {
      "text/plain": [
       "{'whiskers': [<matplotlib.lines.Line2D at 0x1a2ac300f98>,\n",
       "  <matplotlib.lines.Line2D at 0x1a2ac300f60>],\n",
       " 'caps': [<matplotlib.lines.Line2D at 0x1a2ac3026d8>,\n",
       "  <matplotlib.lines.Line2D at 0x1a2ac302a58>],\n",
       " 'boxes': [<matplotlib.lines.Line2D at 0x1a2ac300b70>],\n",
       " 'medians': [<matplotlib.lines.Line2D at 0x1a2ac302dd8>],\n",
       " 'fliers': [],\n",
       " 'means': [<matplotlib.lines.Line2D at 0x1a2ac302ef0>]}"
      ]
     },
     "execution_count": 107,
     "metadata": {},
     "output_type": "execute_result"
    },
    {
     "data": {
      "image/png": "[encoded data removed]",
      "text/plain": [
       "<Figure size 432x288 with 1 Axes>"
      ]
     },
     "metadata": {},
     "output_type": "display_data"
    }
   ],
   "source": [
    "#compare that to the box and whisker plot without the outliers\n",
    "plt.boxplot(df['sqft_living'],1, showmeans = True, sym = '')"
   ]
  },
  {
   "cell_type": "code",
   "execution_count": 108,
   "metadata": {},
   "outputs": [
    {
     "name": "stdout",
     "output_type": "stream",
     "text": [
      "mean square footage is: 2079.8997362698374\n"
     ]
    }
   ],
   "source": [
    "print('mean square footage is:', np.mean(df['sqft_living']))"
   ]
  },
  {
   "cell_type": "markdown",
   "metadata": {},
   "source": [
    "### Since the boxplot without outliers looks the same as with outliers, we can conclude that the data is well distributed and that the median square foot living area is around 2000 square feet."
   ]
  },
  {
   "cell_type": "code",
   "execution_count": 109,
   "metadata": {},
   "outputs": [
    {
     "name": "stdout",
     "output_type": "stream",
     "text": [
      "mean home price is: 540088.1417665294\n",
      "[ 185000.  321950.  450000.  645000. 1485000.]\n"
     ]
    }
   ],
   "source": [
    "#compute percentiles for the prices of homes\n",
    "home_mean = np.mean(df['price'])\n",
    "print('mean home price is:', home_mean)\n",
    "percentiles = np.array([2.5, 25, 50, 75, 97.5])\n",
    "prices_homes = df[['price']]\n",
    "homes_percent = np.percentile(prices_homes,percentiles)\n",
    "print(homes_percent)"
   ]
  },
  {
   "cell_type": "code",
   "execution_count": 58,
   "metadata": {},
   "outputs": [
    {
     "data": {
      "text/plain": [
       "{'whiskers': [<matplotlib.lines.Line2D at 0x1f4a17df160>,\n",
       "  <matplotlib.lines.Line2D at 0x1f4a1814470>],\n",
       " 'caps': [<matplotlib.lines.Line2D at 0x1f4a18147f0>,\n",
       "  <matplotlib.lines.Line2D at 0x1f4a1814b70>],\n",
       " 'boxes': [<matplotlib.lines.Line2D at 0x1f4a1808cc0>],\n",
       " 'medians': [<matplotlib.lines.Line2D at 0x1f4a1814ef0>],\n",
       " 'fliers': [<matplotlib.lines.Line2D at 0x1f4a181d630>],\n",
       " 'means': [<matplotlib.lines.Line2D at 0x1f4a1814eb8>]}"
      ]
     },
     "execution_count": 58,
     "metadata": {},
     "output_type": "execute_result"
    },
    {
     "data": {
      "image/png": "[encoded data removed]",
      "text/plain": [
       "<Figure size 432x288 with 1 Axes>"
      ]
     },
     "metadata": {},
     "output_type": "display_data"
    }
   ],
   "source": [
    "#create box and whisker plot of home prices to see how that compares to percentiles\n",
    "plt.boxplot(df['price'],1, showmeans = True, sym = 'b+')"
   ]
  },
  {
   "cell_type": "markdown",
   "metadata": {},
   "source": [
    "### Based on the percentile assessment, the majority of homes fall within the 450,000 dollar price range which differs from the mean of 540,088 seen on the box and whisker plot.  The plot, however, shows this may be due to some houses on the higher end of the dataset affecting the mean home price."
   ]
  },
  {
   "cell_type": "code",
   "execution_count": 110,
   "metadata": {},
   "outputs": [
    {
     "data": {
      "image/png": "[encoded data removed]",
      "text/plain": [
       "<Figure size 432x288 with 1 Axes>"
      ]
     },
     "metadata": {},
     "output_type": "display_data"
    }
   ],
   "source": [
    "#Since the number of bathrooms was very highly correlated with price, \n",
    "#take a look at a scatterplot of no of bathrooms vs home price\n",
    "_ = plt.plot(no_of_bathrooms, prices_homes, marker = '.', linestyle = 'none')\n",
    "_ = plt.xlabel('no of bathrooms')\n",
    "_ = plt.ylabel('home price')\n",
    "plt.show()"
   ]
  },
  {
   "cell_type": "markdown",
   "metadata": {},
   "source": [
    "### The scatterplot of bathrooms and price shows a definite correlation between price and the number of bathrooms. However, what's interesting is that after 3.5 bathrooms there are many data points within 4-5 bathrooms that are at the same price of  3.5 bathrooms so it appears the price levels off a bit after 3.5 bathrooms."
   ]
  },
  {
   "cell_type": "code",
   "execution_count": 111,
   "metadata": {},
   "outputs": [],
   "source": [
    "'''\n",
    "Since histograms suffer from thinning bias, take a look next at the cumulative distribution function\n",
    "in order to further analyze the distribution of the data.\n",
    "'''\n",
    "def ecdf(data):\n",
    "    xaxis = np.sort(data)\n",
    "    yaxis = np.arange(1,len(data) + 1)/ len(data)\n",
    "    return xaxis, yaxis"
   ]
  },
  {
   "cell_type": "code",
   "execution_count": 112,
   "metadata": {},
   "outputs": [
    {
     "data": {
      "image/png": "[encoded data removed]",
      "text/plain": [
       "<Figure size 432x288 with 1 Axes>"
      ]
     },
     "metadata": {},
     "output_type": "display_data"
    }
   ],
   "source": [
    "#compute ecdf for the number of bathrooms\n",
    "import statsmodels as sm\n",
    "import sklearn as sl\n",
    "import scipy.special\n",
    "import scipy as sp\n",
    "from scipy import stats\n",
    "\n",
    "x_bath, y_bath = ecdf(df['bathrooms'])\n",
    "_ = plt.plot(x_bath, y_bath, marker = '.', linestyle = 'none')\n",
    "_ = plt.title('ECDF of Average Bathroom Number')\n",
    "_ = plt.xlabel('bathroom_number')\n",
    "_ = plt.ylabel('Percentage')\n",
    "_ = plt.margins(0.02)\n",
    "plt.show()"
   ]
  },
  {
   "cell_type": "markdown",
   "metadata": {},
   "source": [
    "### The cumulative distribution function shows that the 50% probability of number of bathrooms falls between 2 and 2.25 which makes sense since the calculated mean number of bathrooms in our dataset was 2."
   ]
  },
  {
   "cell_type": "code",
   "execution_count": 113,
   "metadata": {
    "scrolled": true
   },
   "outputs": [
    {
     "data": {
      "image/png": "[encoded data removed]",
      "text/plain": [
       "<Figure size 432x288 with 1 Axes>"
      ]
     },
     "metadata": {},
     "output_type": "display_data"
    }
   ],
   "source": [
    "#create more variables to plot more ECDF visualizations(no of bedrooms, no of floors)\n",
    "x_bed, y_bed = ecdf(df['bedrooms'])\n",
    "_ = plt.plot(x_bed, y_bed, marker = '.', linestyle = 'none')\n",
    "_ = plt.title('ECDF of Average Bedroom Number')\n",
    "_ = plt.xlabel('number_bedrms')\n",
    "_ = plt.ylabel('Percentage')\n",
    "_ = plt.margins(0.02)\n",
    "plt.show()"
   ]
  },
  {
   "cell_type": "markdown",
   "metadata": {},
   "source": [
    "### In this ecdf visualization for the number of bedrooms, the 50% probability is seen around 3 which also makes sense since it corresponds to our mean number of 3 bedrooms."
   ]
  },
  {
   "cell_type": "code",
   "execution_count": 114,
   "metadata": {
    "scrolled": true
   },
   "outputs": [
    {
     "data": {
      "image/png": "[encoded data removed]",
      "text/plain": [
       "<Figure size 432x288 with 1 Axes>"
      ]
     },
     "metadata": {},
     "output_type": "display_data"
    }
   ],
   "source": [
    "#plot the percentiles of home prices on the ECDF plot \n",
    "x_pr, y_pr = ecdf(df['price'] * .00001)\n",
    "_ = plt.plot(x_pr, y_pr, '.')\n",
    "_ = plt.xlabel('homeprices / $100,000')\n",
    "_ = plt.ylabel('Percentage')\n",
    "_ = plt.title('ECDF of Average Bedroom Number')\n",
    "_ = plt.margins(0.02)\n",
    "plt.show()"
   ]
  },
  {
   "cell_type": "markdown",
   "metadata": {},
   "source": [
    "### Plotting the home price with the ecdf shows us the 50% probability of home prices falls around 500,000 which also matches our calculated mean home price of 540,088 dollars.  The ecdf visualizations also confirm that our data falls within a normal distribution for the most part however we will need to investigate further with hypothesis testing to decide if the higher priced homes are outliers and need to be removed."
   ]
  },
  {
   "cell_type": "markdown",
   "metadata": {},
   "source": [
    "## Frequentist/Bootstrap Hypothesis Testing:\n",
    "### null hypoth: diff of means between full data sample and bootstrap random data sample = 0\n",
    "### alt hypoth: diff of means between full data sample and bootstrap random data sample != 0"
   ]
  },
  {
   "cell_type": "code",
   "execution_count": 115,
   "metadata": {},
   "outputs": [
    {
     "name": "stdout",
     "output_type": "stream",
     "text": [
      "7.57 1.1068423555321687 0.11068423555321687\n",
      "z_score is:  -0.8131239245604036\n"
     ]
    }
   ],
   "source": [
    "#In the previous visualizations we determined our data was normally distributed(eg.take a look at histogram for building grade)\n",
    "#since our sample size > 30, we can also determine the observations are independent\n",
    "#therefore begin with bootstrap testing to compare our previous numpy mean(7.66) of building grade with bootstrap testing mean\n",
    "bs_sample = np.random.choice(df['grade'], size = 100)\n",
    "bs_mean = np.mean(bs_sample)\n",
    "bs_std = np.std(bs_sample)\n",
    "bs_zse = bs_std / (100)**.5\n",
    "bs_zsre = (bs_mean -7.66) / bs_zse\n",
    "print(bs_mean,bs_std,bs_zse)\n",
    "print(\"z_score is: \", bs_zsre)"
   ]
  },
  {
   "cell_type": "markdown",
   "metadata": {},
   "source": [
    "### The z score above corresponds to a p value of .114 which is greater than .05, therefore we fail to reject the hypothesis and conclude that there is no statistical difference between the difference of the means even when a random bootstrap sample set is chosen and compared against the actual data set."
   ]
  },
  {
   "cell_type": "markdown",
   "metadata": {},
   "source": [
    "## In our data exploration and visualization, we determined that the mean home price was 540,088 dollars, the mean no of bathrooms was 2  and the mean no of bedrooms was 3.  We will statistically compare the difference of means between the mean house price having mean number(two) of bathrooms against mean home price having mean number(three) of bedrooms."
   ]
  },
  {
   "cell_type": "markdown",
   "metadata": {},
   "source": [
    "### Null hypoth: The difference of means of home price with 3 bedrooms and 2 bathrooms = 0  \n",
    "\n",
    "### Alt hypoth: The difference of means of home price with 3 bedrooms and 2 bathrooms != 0"
   ]
  },
  {
   "cell_type": "code",
   "execution_count": 116,
   "metadata": {},
   "outputs": [],
   "source": [
    "#create a for loop to only look at home prices with 3 bedrooms\n",
    "booleans = []\n",
    "for size in df.bedrooms:\n",
    "    if size == 3:\n",
    "        booleans.append(True)\n",
    "    else:\n",
    "        booleans.append(False)"
   ]
  },
  {
   "cell_type": "code",
   "execution_count": 125,
   "metadata": {},
   "outputs": [
    {
     "name": "stdout",
     "output_type": "stream",
     "text": [
      "[True, True, False, False, True]\n",
      "9824 is number of three bedrm homes\n"
     ]
    }
   ],
   "source": [
    "#take a look at boolean series\n",
    "print(booleans[0:5])\n",
    "is_ave = pd.Series(booleans)\n",
    "three_rms = df[is_ave]\n",
    "print(len(three_rms), 'is number of three bedrm homes')\n",
    "three_rms_price = three_rms['price']"
   ]
  },
  {
   "cell_type": "code",
   "execution_count": 118,
   "metadata": {},
   "outputs": [
    {
     "name": "stdout",
     "output_type": "stream",
     "text": [
      "three bedrm mean home price is: 466232.07848127035\n"
     ]
    }
   ],
   "source": [
    "#evaluate mean of home prices with 3 bedrooms\n",
    "print(\"three bedrm mean home price is:\", np.mean(three_rms_price))"
   ]
  },
  {
   "cell_type": "code",
   "execution_count": 119,
   "metadata": {},
   "outputs": [
    {
     "data": {
      "text/plain": [
       "0    False\n",
       "1    False\n",
       "2    False\n",
       "3    False\n",
       "4     True\n",
       "Name: bathrooms, dtype: bool"
      ]
     },
     "execution_count": 119,
     "metadata": {},
     "output_type": "execute_result"
    }
   ],
   "source": [
    "#create boolean series for home prices that have 2 bathrooms\n",
    "is_ave_bath = df.bathrooms == 2\n",
    "is_ave_bath.head()"
   ]
  },
  {
   "cell_type": "code",
   "execution_count": 126,
   "metadata": {},
   "outputs": [
    {
     "name": "stdout",
     "output_type": "stream",
     "text": [
      "1930 is no of 2 bathrm homes\n",
      "two bathrm mean home price is: 457889.7186528497\n"
     ]
    }
   ],
   "source": [
    "#calculate mean of home prices with 2 bathrooms\n",
    "two_bath = df[is_ave_bath]\n",
    "two_bath_price = two_bath['price']\n",
    "print(len(two_bath), 'is no of 2 bathrm homes')\n",
    "print(\"two bathrm mean home price is:\", np.mean(two_bath_price))"
   ]
  },
  {
   "cell_type": "code",
   "execution_count": 88,
   "metadata": {},
   "outputs": [
    {
     "name": "stdout",
     "output_type": "stream",
     "text": [
      "10806.5\n"
     ]
    }
   ],
   "source": [
    "#find middle indices in order to determine median of dataset\n",
    "all_home_prices = df['price']\n",
    "all_sorted_prices = np.sort(all_home_prices)\n",
    "print(len(all_sorted_prices)/2)"
   ]
  },
  {
   "cell_type": "code",
   "execution_count": 56,
   "metadata": {},
   "outputs": [
    {
     "name": "stdout",
     "output_type": "stream",
     "text": [
      "median home price is: 450000.0\n"
     ]
    }
   ],
   "source": [
    "#print median home price to compare against mean home price\n",
    "home_med = all_sorted_prices[10806]\n",
    "print('median home price is:', home_med)"
   ]
  },
  {
   "cell_type": "markdown",
   "metadata": {},
   "source": [
    "### These findings suggest that the mean number of bedrooms(3) is associated with a mean home price of 466232 dollars and the mean number of bathrooms(2) is associated with a mean home price of 457890 dollars.  Although the 3 bedroom mean home price is more closely aligned with the overall mean home price of 540,088 dollars, the 2 bathroom mean home price is more closely aligned with the median home price of 450,000 dollars. This discrepancy may be due to the fact that there is a larger sample size(9824) of 3 bedrooms than that of two bathrooms(1930) or may, more likely, be due to the fact that the mean home price of 540088 is being affected by  higher priced homes(such as one home priced at 7 million dollars). If we, instead, compare our stats against the median home price, then the two bathroom homes appear more correlated which makes sense since correlation testing indicated that the number of bathrooms is more correlated with home price than the number of bedrooms."
   ]
  },
  {
   "cell_type": "code",
   "execution_count": 65,
   "metadata": {},
   "outputs": [
    {
     "name": "stdout",
     "output_type": "stream",
     "text": [
      "the diff of means is: 8342.359828420624\n"
     ]
    }
   ],
   "source": [
    "#compare the two bathroom mean home price with three bedroom mean home price using hypothesis testing\n",
    "diff_of_means = np.mean(three_rms_price) - np.mean(two_bath_price)\n",
    "print(\"the diff of means is:\", diff_of_means)"
   ]
  },
  {
   "cell_type": "code",
   "execution_count": 38,
   "metadata": {},
   "outputs": [
    {
     "name": "stdout",
     "output_type": "stream",
     "text": [
      "z: 1.3187908819369583 , pval: 0.1872390333994377\n"
     ]
    }
   ],
   "source": [
    "#import stats package to determine p value and to recheck z score above.\n",
    "from statsmodels.stats.weightstats import ztest\n",
    "z, pval = ztest(three_rms_price,two_bath_price, alternative='two-sided')\n",
    "print('z: {} , pval: {}'.format(z, pval))"
   ]
  },
  {
   "cell_type": "markdown",
   "metadata": {},
   "source": [
    "### Based on a 95% confidence interval, a p-value of .18 indicates that we cannot conclude that a significant difference exists between the mean home price of two bathrooms and the mean home price of three bathrooms.\n",
    "### This is exciting since it helps us in our home price prediction analysis.  Last we will compare the mean home price using bootstrapping method against the actual mean home price.  This will help us take a look at the mean home price given a random sample and also evaluate the validity of our data set.  "
   ]
  },
  {
   "cell_type": "code",
   "execution_count": 46,
   "metadata": {},
   "outputs": [
    {
     "name": "stdout",
     "output_type": "stream",
     "text": [
      "540088.1417665294\n",
      "367118.7031813722\n",
      "538129.955 323137.534392622 7225.57492983579\n",
      "z_score is:  -0.2709881246840161\n"
     ]
    }
   ],
   "source": [
    "print(home_mean)\n",
    "home_std = (np.std(df['price']))\n",
    "print(home_std)\n",
    "bs_sample = np.random.choice(df['price'], size = 2000)\n",
    "bs_mean = np.mean(bs_sample)\n",
    "bs_std = np.std(bs_sample)\n",
    "bs_zse = bs_std / (2000)**.5\n",
    "bs_zsre = (bs_mean - 540088) / bs_zse\n",
    "print(bs_mean,bs_std,bs_zse)\n",
    "print(\"z_score is: \", bs_zsre)"
   ]
  },
  {
   "cell_type": "markdown",
   "metadata": {},
   "source": [
    "### Based on the p-value of >.05, we can fail to reject the hypothesis that there is a statistical difference between  the mean of our bootstrap sample and the mean of our housing price data set.  "
   ]
  },
  {
   "cell_type": "code",
   "execution_count": 47,
   "metadata": {},
   "outputs": [
    {
     "data": {
      "text/plain": [
       "14984.045045496337"
      ]
     },
     "execution_count": 47,
     "metadata": {},
     "output_type": "execute_result"
    }
   ],
   "source": [
    "diffe_of_means = home_mean - bs_mean\n",
    "twosamp_std = ((((bs_std)**2)/2000) + (((home_std)**2)/21613))**.5\n",
    "m_of_err = 1.96 * (twosamp_std)\n",
    "m_of_err"
   ]
  },
  {
   "cell_type": "code",
   "execution_count": 48,
   "metadata": {},
   "outputs": [
    {
     "name": "stdout",
     "output_type": "stream",
     "text": [
      "(16942.23181202579, -13025.858278966882)\n"
     ]
    }
   ],
   "source": [
    "conf_int = (diffe_of_means + m_of_err), (diffe_of_means - m_of_err)\n",
    "print(conf_int)"
   ]
  },
  {
   "cell_type": "markdown",
   "metadata": {},
   "source": [
    "### Within a margin of error of 14,984 dollars, we can be 95% certain that the confidence interval range above contains our true mean.  The high standard deviation however in both the bootstrap data set as well as the actual dataset is an indication that there is a large range and high degree of variability of some data points from the mean.  This might be due to the few houses that are on the higher end of the dataset.  This is an important finding from our hypothesis and statistical testing as it indicates that, as the dataset stands, the median is a more reliable measurement of central tendency.  It also indicates, that these outliers,or higher priced homes, may need to be removed from the dataset. However, before removing these values from the dataset, we will utilize the logarithmic function to see if that normalizes out the home prices and decreases the spread.  "
   ]
  },
  {
   "cell_type": "code",
   "execution_count": 49,
   "metadata": {},
   "outputs": [
    {
     "name": "stdout",
     "output_type": "stream",
     "text": [
      "13.047816917155423\n",
      "[12.1281111  12.68215153 13.01700286 13.3770056  14.21092533]\n"
     ]
    }
   ],
   "source": [
    "#compute percentiles for the prices of homes but utilizing log to determine if we need to drop higher priced home from dataset\n",
    "l_price = np.log(df['price'])\n",
    "print(np.mean(l_price))\n",
    "percentiles = np.array([2.5, 25, 50, 75, 97.5])\n",
    "l_prices_homes = np.log(df[['price']])\n",
    "l_homes_percent = np.percentile(l_prices_homes,percentiles)\n",
    "print(l_homes_percent)"
   ]
  },
  {
   "cell_type": "code",
   "execution_count": 50,
   "metadata": {
    "scrolled": true
   },
   "outputs": [
    {
     "data": {
      "image/png": "[encoded data removed]",
      "text/plain": [
       "<Figure size 432x288 with 1 Axes>"
      ]
     },
     "metadata": {},
     "output_type": "display_data"
    }
   ],
   "source": [
    "plt.hist(l_price)\n",
    "plt.title(\"King County Home Prices\")\n",
    "plt.xlabel(\"Log of home price\")\n",
    "plt.ylabel(\"Frequency\")\n",
    "plt.show()"
   ]
  },
  {
   "cell_type": "code",
   "execution_count": 53,
   "metadata": {},
   "outputs": [
    {
     "name": "stdout",
     "output_type": "stream",
     "text": [
      "mean is: 13.047816917155423\n",
      "std is: 0.5266723344538438\n",
      "bootstrap mean is: 13.033419403740886\n",
      "bootstrap std is: 0.5247660938896633\n",
      "bootstrap zscore is: 0.011734126582243242\n",
      "z_score is:  -1.413023469868227\n"
     ]
    }
   ],
   "source": [
    "l_home_mean = np.mean(l_price)\n",
    "print(\"mean is:\", l_home_mean)\n",
    "l_home_std = (np.std(l_price))\n",
    "print(\"std is:\", l_home_std)\n",
    "l_bs_sample = np.random.choice(l_price, size = 2000)\n",
    "l_bs_mean = np.mean(l_bs_sample)\n",
    "l_bs_std = np.std(l_bs_sample)\n",
    "l_bs_zse = l_bs_std / (2000)**.5\n",
    "l_bs_zsre = (l_bs_mean - 13.05) / l_bs_zse\n",
    "print('bootstrap mean is:', l_bs_mean)\n",
    "print('bootstrap std is:', l_bs_std)\n",
    "print('bootstrap zscore is:', l_bs_zse)\n",
    "print(\"z_score is: \", l_bs_zsre)"
   ]
  },
  {
   "cell_type": "code",
   "execution_count": 52,
   "metadata": {},
   "outputs": [
    {
     "name": "stdout",
     "output_type": "stream",
     "text": [
      "margin of error is: 0.024121990514895594\n",
      "confidence interval is: (0.038382288627230574, -0.009861692402560615)\n"
     ]
    }
   ],
   "source": [
    "l_diff_of_means = l_home_mean - l_bs_mean\n",
    "l_twosamp_std = ((((l_bs_std)**2)/2000) + (((l_home_std)**2)/21613))**.5\n",
    "l_m_of_err = 1.96 * (l_twosamp_std)\n",
    "print('margin of error is:', l_m_of_err)\n",
    "l_conf_int = (l_diff_of_means + l_m_of_err), (l_diff_of_means - l_m_of_err)\n",
    "print('confidence interval is:', l_conf_int)"
   ]
  },
  {
   "cell_type": "code",
   "execution_count": 57,
   "metadata": {},
   "outputs": [
    {
     "name": "stdout",
     "output_type": "stream",
     "text": [
      "mean is: 12.945214978866858\n",
      "mean is: 12.936713402637833\n",
      "median home price is: 13.017002861746503\n"
     ]
    }
   ],
   "source": [
    "l_two_bath_price = np.log(two_bath['price'])\n",
    "print('mean is:', np.mean(l_two_bath_price))\n",
    "l_three_rms_price = np.log(three_rms['price'])\n",
    "print('mean is:', np.mean(l_three_rms_price))\n",
    "print('median home price is:', np.log(home_med))"
   ]
  },
  {
   "cell_type": "code",
   "execution_count": 54,
   "metadata": {},
   "outputs": [
    {
     "data": {
      "text/plain": [
       "{'whiskers': [<matplotlib.lines.Line2D at 0x1f4a07b8dd8>,\n",
       "  <matplotlib.lines.Line2D at 0x1f4a17b97f0>],\n",
       " 'caps': [<matplotlib.lines.Line2D at 0x1f4a17b9b70>,\n",
       "  <matplotlib.lines.Line2D at 0x1f4a17b9ef0>],\n",
       " 'boxes': [<matplotlib.lines.Line2D at 0x1f4a17b90b8>],\n",
       " 'medians': [<matplotlib.lines.Line2D at 0x1f4a17b9eb8>],\n",
       " 'fliers': [],\n",
       " 'means': [<matplotlib.lines.Line2D at 0x1f4a17c2630>]}"
      ]
     },
     "execution_count": 54,
     "metadata": {},
     "output_type": "execute_result"
    },
    {
     "data": {
      "image/png": "[encoded data removed]",
      "text/plain": [
       "<Figure size 432x288 with 1 Axes>"
      ]
     },
     "metadata": {},
     "output_type": "display_data"
    }
   ],
   "source": [
    "plt.boxplot(l_price, 1, showmeans = True, sym = '')"
   ]
  },
  {
   "cell_type": "markdown",
   "metadata": {},
   "source": [
    "### The p-value of .07 indicates there is no statistical difference between our bootstrap sample mean and actual home price mean. Also, the central spread of the log function of price is much more normalized with a mean home price of 13.05 and a median home price of 13.02.  The box and whisker plot also indicates an even spread in home prices. In conclusion, we will not remove the higher priced homes from the dataset but instead utilize the logarithmic function on the price values."
   ]
  },
  {
   "cell_type": "code",
   "execution_count": null,
   "metadata": {},
   "outputs": [],
   "source": []
  }
 ],
 "metadata": {
  "kernelspec": {
   "display_name": "Python 3",
   "language": "python",
   "name": "python3"
  },
  "language_info": {
   "codemirror_mode": {
    "name": "ipython",
    "version": 3
   },
   "file_extension": ".py",
   "mimetype": "text/x-python",
   "name": "python",
   "nbconvert_exporter": "python",
   "pygments_lexer": "ipython3",
   "version": "3.7.1"
  }
 },
 "nbformat": 4,
 "nbformat_minor": 2
}
